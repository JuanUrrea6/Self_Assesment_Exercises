{
 "cells": [
  {
   "cell_type": "code",
   "execution_count": 3,
   "metadata": {},
   "outputs": [],
   "source": [
    "import matplotlib.pyplot as plt\n",
    "import numpy as np\n",
    "import urllib.request  as urllib2"
   ]
  },
  {
   "cell_type": "code",
   "execution_count": 52,
   "metadata": {},
   "outputs": [
    {
     "name": "stdout",
     "output_type": "stream",
     "text": [
      "The temperature in Dusseldorf is: 3.0 degrees C\n",
      "The temperature in Frankfurt is: 8.0 degrees C\n",
      "The temperature in Tokio is: 14.0 degrees C\n",
      "The temperature in Buenos Aires is: 18.0 degrees C\n",
      "The temperature in Vancouver is: 7.0 degrees C\n",
      "The temperature in Longyearbyen is: -4.0 degrees C\n",
      "The temperature in Goose Bay is: -1.0 degrees C\n"
     ]
    }
   ],
   "source": [
    "#List of airports\n",
    "airports = ['EDDL','EDDF','RJAA','SAEZ','CYVR','ENSB','CYYR']\n",
    "cities = ['Dusseldorf','Frankfurt','Tokio','Buenos Aires','Vancouver','Longyearbyen','Goose Bay']\n",
    "url = 'https://www.aviationweather.gov/adds/dataserver_current/httpparam?dataSource=metars&requestType=retrieve&format=csv&stationString=EDDL&hoursBeforeNow=2'\n",
    "for i in range(7):\n",
    "    url_now = url.replace('EDDL',airports[i])\n",
    "    connection = urllib2.urlopen(url_now)\n",
    "    reading = connection.read()\n",
    "    reading = reading.decode('unicode_escape')\n",
    "    lines = reading.splitlines()\n",
    "    last = lines[-1]\n",
    "    separated = last.split(' ')\n",
    "    element = [i for i in separated if '/' in i]\n",
    "    separated1 = element[0].split('/')\n",
    "    temp = separated1[0]\n",
    "    if('M' in temp):\n",
    "        temp = temp.replace('M','-')\n",
    "    temp = float(temp)\n",
    "    print('The temperature in '+ cities[i] + ' is: %1.1f degrees C' % temp)"
   ]
  },
  {
   "cell_type": "code",
   "execution_count": null,
   "metadata": {
    "collapsed": true
   },
   "outputs": [],
   "source": []
  }
 ],
 "metadata": {
  "kernelspec": {
   "display_name": "Python [Root]",
   "language": "python",
   "name": "Python [Root]"
  },
  "language_info": {
   "codemirror_mode": {
    "name": "ipython",
    "version": 3
   },
   "file_extension": ".py",
   "mimetype": "text/x-python",
   "name": "python",
   "nbconvert_exporter": "python",
   "pygments_lexer": "ipython3",
   "version": "3.5.2"
  }
 },
 "nbformat": 4,
 "nbformat_minor": 2
}
