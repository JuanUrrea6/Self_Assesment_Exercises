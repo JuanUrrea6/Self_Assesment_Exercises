{
 "cells": [
  {
   "cell_type": "code",
   "execution_count": 1,
   "metadata": {
    "collapsed": false
   },
   "outputs": [
    {
     "name": "stdout",
     "output_type": "stream",
     "text": [
      "Populating the interactive namespace from numpy and matplotlib\n"
     ]
    }
   ],
   "source": [
    "%pylab inline"
   ]
  },
  {
   "cell_type": "markdown",
   "metadata": {},
   "source": [
    "# Fibonacci Sequence"
   ]
  },
  {
   "cell_type": "code",
   "execution_count": 46,
   "metadata": {
    "collapsed": false
   },
   "outputs": [
    {
     "name": "stdout",
     "output_type": "stream",
     "text": [
      "[1, 1, 2, 3, 5]\n"
     ]
    }
   ],
   "source": [
    "F = [1,1] #Initial conditions\n",
    "NF = 5 #Size of Fibonacci segment.\n",
    "for i in range(2,NF):\n",
    "    actual = F[i-2] + F[i-1]\n",
    "    F.append(actual)\n",
    "print(F)"
   ]
  },
  {
   "cell_type": "markdown",
   "metadata": {},
   "source": [
    "# Sieve of Eratosthenes"
   ]
  },
  {
   "cell_type": "code",
   "execution_count": 47,
   "metadata": {
    "collapsed": false
   },
   "outputs": [
    {
     "name": "stdout",
     "output_type": "stream",
     "text": [
      "83\n"
     ]
    }
   ],
   "source": [
    "Reals = [i for i in range(2,100000)] #Real numbers.\n",
    "N = 23 #Maximal of prime we are looking for.\n",
    "Primos = [2]\n",
    "for j in range(N-1):\n",
    "    Reals = [i for i in Reals if (i%Primos[j] != 0)]\n",
    "    Primos.append(Reals[0])\n",
    "print(Primos[N-1])"
   ]
  },
  {
   "cell_type": "markdown",
   "metadata": {},
   "source": [
    "# Histogram Construction"
   ]
  },
  {
   "cell_type": "code",
   "execution_count": 81,
   "metadata": {
    "collapsed": false
   },
   "outputs": [
    {
     "name": "stdout",
     "output_type": "stream",
     "text": [
      "0: 15 ****************************************\n",
      "1: 11 ******************************\n",
      "2: 11 ******************************\n",
      "3: 14 **************************************\n",
      "4: 9 ************************\n",
      "5: 19 ***************************************************\n",
      "6: 14 **************************************\n",
      "7: 8 *********************\n",
      "8: 14 **************************************\n",
      "9: 14 **************************************\n",
      "10: 16 *******************************************\n",
      "11: 18 *************************************************\n",
      "12: 15 ****************************************\n",
      "13: 14 **************************************\n",
      "14: 15 ****************************************\n",
      "15: 10 ***************************\n",
      "16: 22 ************************************************************\n",
      "17: 12 ********************************\n",
      "18: 19 ***************************************************\n",
      "19: 17 **********************************************\n",
      "20: 13 ***********************************\n"
     ]
    }
   ],
   "source": [
    "Ms = [randint(0,21) for i in range(300)] #Create array of random numbers between 0 and 20.\n",
    "theNums = unique(Ms) #Numbers 1-20\n",
    "frequencies = [Ms.count(i) for i in theNums] #Count repetitions\n",
    "Normed_Frequencies = [np.round(i*60/max(frequencies),1) for i in frequencies] #Normalize to 60 in integers.\n",
    "for i in range(0,21): #Plot histogram.\n",
    "    print('%i: %i %s' % (i, int(frequencies[i]),'*' * int(Normed_Frequencies[i])))"
   ]
  },
  {
   "cell_type": "code",
   "execution_count": null,
   "metadata": {
    "collapsed": true
   },
   "outputs": [],
   "source": []
  }
 ],
 "metadata": {
  "kernelspec": {
   "display_name": "Python [Root]",
   "language": "python",
   "name": "Python [Root]"
  },
  "language_info": {
   "codemirror_mode": {
    "name": "ipython",
    "version": 3
   },
   "file_extension": ".py",
   "mimetype": "text/x-python",
   "name": "python",
   "nbconvert_exporter": "python",
   "pygments_lexer": "ipython3",
   "version": "3.5.2"
  }
 },
 "nbformat": 4,
 "nbformat_minor": 0
}
